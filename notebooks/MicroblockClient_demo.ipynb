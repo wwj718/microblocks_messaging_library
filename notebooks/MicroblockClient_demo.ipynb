{
 "cells": [
  {
   "cell_type": "code",
   "execution_count": 3,
   "metadata": {},
   "outputs": [
    {
     "name": "stdout",
     "output_type": "stream",
     "text": [
      "discovering...\n",
      "found devices: ['MicroBlocks AZB', 'MicroBlocks QCQ', 'MicroBlocks CFH']\n"
     ]
    }
   ],
   "source": [
    "from microblocks import MicroblocksClient\n",
    "\n",
    "client = MicroblocksClient()\n",
    "found_devices = client.discover(timeout=3)\n",
    "print(\"found devices:\", found_devices)"
   ]
  },
  {
   "cell_type": "code",
   "execution_count": 4,
   "metadata": {},
   "outputs": [
    {
     "name": "stdout",
     "output_type": "stream",
     "text": [
      "MicroBlocks AZB is connected\n"
     ]
    }
   ],
   "source": [
    "client.connect(\"MicroBlocks AZB\", timeout=3)"
   ]
  },
  {
   "cell_type": "code",
   "execution_count": 8,
   "metadata": {},
   "outputs": [
    {
     "data": {
      "text/plain": [
       "-28"
      ]
     },
     "execution_count": 8,
     "metadata": {},
     "output_type": "execute_result"
    }
   ],
   "source": [
    "client.tiltX"
   ]
  },
  {
   "cell_type": "code",
   "execution_count": 9,
   "metadata": {},
   "outputs": [
    {
     "data": {
      "text/plain": [
       "27"
      ]
     },
     "execution_count": 9,
     "metadata": {},
     "output_type": "execute_result"
    }
   ],
   "source": [
    "client.temperature"
   ]
  },
  {
   "cell_type": "code",
   "execution_count": 10,
   "metadata": {},
   "outputs": [],
   "source": [
    "client.display_character(\"f\")"
   ]
  },
  {
   "cell_type": "code",
   "execution_count": 11,
   "metadata": {},
   "outputs": [],
   "source": [
    "client.plot(1,1)"
   ]
  },
  {
   "cell_type": "code",
   "execution_count": 12,
   "metadata": {},
   "outputs": [],
   "source": [
    "client.clear_display()"
   ]
  },
  {
   "cell_type": "code",
   "execution_count": 13,
   "metadata": {},
   "outputs": [],
   "source": [
    "client.scroll_text(\"hello\")"
   ]
  },
  {
   "cell_type": "code",
   "execution_count": 1,
   "metadata": {},
   "outputs": [
    {
     "name": "stdout",
     "output_type": "stream",
     "text": [
      "discovering...\n",
      "found devices: ['MicroBlocks AZB', 'MicroBlocks QCQ', 'MicroBlocks CFH']\n",
      "MicroBlocks AZB is connected\n",
      "MicroBlocks QCQ is connected\n",
      "MicroBlocks CFH is connected\n"
     ]
    }
   ],
   "source": [
    "# Connect multiple devices\n",
    "import time\n",
    "from microblocks import MicroblocksClient\n",
    "\n",
    "client = MicroblocksClient()\n",
    "found_devices = client.discover(timeout=3) # \n",
    "print(\"found devices:\", found_devices)\n",
    "# connect all discovered devices\n",
    "devices = [MicroblocksClient(i) for i in found_devices]\n",
    "\n",
    "for index, device in enumerate(devices):\n",
    "    device.display_character(index)"
   ]
  },
  {
   "cell_type": "code",
   "execution_count": 2,
   "metadata": {},
   "outputs": [],
   "source": [
    "for device in devices:\n",
    "    device.clear_display()"
   ]
  }
 ],
 "metadata": {
  "kernelspec": {
   "display_name": "env310",
   "language": "python",
   "name": "python3"
  },
  "language_info": {
   "codemirror_mode": {
    "name": "ipython",
    "version": 3
   },
   "file_extension": ".py",
   "mimetype": "text/x-python",
   "name": "python",
   "nbconvert_exporter": "python",
   "pygments_lexer": "ipython3",
   "version": "3.10.10"
  }
 },
 "nbformat": 4,
 "nbformat_minor": 2
}
